{
  "nbformat": 4,
  "nbformat_minor": 0,
  "metadata": {
    "colab": {
      "provenance": []
    },
    "kernelspec": {
      "name": "python3",
      "display_name": "Python 3"
    },
    "language_info": {
      "name": "python"
    }
  },
  "cells": [
    {
      "cell_type": "markdown",
      "source": [
        "#**SOCIAL MEDIA USERS**"
      ],
      "metadata": {
        "id": "BE-_gMFSGZrF"
      }
    },
    {
      "cell_type": "markdown",
      "source": [
        "**Problem Statement :-** Analyze how different genders and age groups use social media platforms for various purposes."
      ],
      "metadata": {
        "id": "5BZaG9ClncfG"
      }
    },
    {
      "cell_type": "code",
      "execution_count": null,
      "metadata": {
        "id": "GYIwXdz4IkRV"
      },
      "outputs": [],
      "source": [
        "#let us import Required libraries\n",
        "import numpy as np\n",
        "import pandas as pd\n",
        "import matplotlib.pyplot as plt\n",
        "import seaborn as sns\n",
        "from warnings import filterwarnings\n",
        "filterwarnings(\"ignore\")"
      ]
    },
    {
      "cell_type": "markdown",
      "source": [
        "Lets read the Dataset"
      ],
      "metadata": {
        "id": "ZFpJAYmbJjwZ"
      }
    },
    {
      "cell_type": "code",
      "source": [
        "df=pd.read_csv(\"SocialMediaUsers.csv\")"
      ],
      "metadata": {
        "id": "6Q6syjGsJet7"
      },
      "execution_count": null,
      "outputs": []
    },
    {
      "cell_type": "markdown",
      "source": [
        "Lets see the info of the Dataset"
      ],
      "metadata": {
        "id": "1Btipx_8J06U"
      }
    },
    {
      "cell_type": "code",
      "source": [
        "df.info()"
      ],
      "metadata": {
        "colab": {
          "base_uri": "https://localhost:8080/"
        },
        "id": "imipzivKJrWI",
        "outputId": "c74cca0a-5349-404b-caf3-e38263247c7f"
      },
      "execution_count": null,
      "outputs": [
        {
          "output_type": "stream",
          "name": "stdout",
          "text": [
            "<class 'pandas.core.frame.DataFrame'>\n",
            "RangeIndex: 100000 entries, 0 to 99999\n",
            "Data columns (total 13 columns):\n",
            " #   Column                Non-Null Count   Dtype \n",
            "---  ------                --------------   ----- \n",
            " 0   Name                  100000 non-null  object\n",
            " 1   Gender                100000 non-null  object\n",
            " 2   City                  100000 non-null  object\n",
            " 3   Country               100000 non-null  object\n",
            " 4   Age                   100000 non-null  int64 \n",
            " 5   Platform              100000 non-null  object\n",
            " 6   YearsOnPlatform       100000 non-null  int64 \n",
            " 7   PlatformPurpose       100000 non-null  object\n",
            " 8   UsageFrequency        100000 non-null  object\n",
            " 9   DeviceUsed            100000 non-null  object\n",
            " 10  NotificationsEnabled  100000 non-null  object\n",
            " 11  UsageEnvironment      100000 non-null  object\n",
            " 12  DailyUsageMinutes     100000 non-null  int64 \n",
            "dtypes: int64(3), object(10)\n",
            "memory usage: 9.9+ MB\n"
          ]
        }
      ]
    },
    {
      "cell_type": "code",
      "source": [
        "df.head()"
      ],
      "metadata": {
        "colab": {
          "base_uri": "https://localhost:8080/",
          "height": 313
        },
        "id": "UTJCSdOcZkmp",
        "outputId": "eb556560-28d9-4830-f1c1-1e6a16c2de36"
      },
      "execution_count": null,
      "outputs": [
        {
          "output_type": "execute_result",
          "data": {
            "text/plain": [
              "                 Name  Gender         City    Country  Age  Platform  \\\n",
              "0       Jesse Lawhorn  Female      Sibolga  Indonesia   66  LinkedIn   \n",
              "1         Stacy Payne  Female     Al Abyār      Libya   20  Snapchat   \n",
              "2  Katrina Nicewander  Female  Wādī as Sīr     Jordan   25   Twitter   \n",
              "3      Eric Yarbrough    Male       Matera      Italy   40  Snapchat   \n",
              "4       Daniel Adkins  Female      Biruaca  Venezuela   69  Snapchat   \n",
              "\n",
              "   YearsOnPlatform    PlatformPurpose UsageFrequency DeviceUsed  \\\n",
              "0                1    Sharing Moments         Weekly    Desktop   \n",
              "1                3         Networking          Daily     Mobile   \n",
              "2                1   Content Creation          Daily     Mobile   \n",
              "3                4  Real-time Updates        Monthly    Desktop   \n",
              "4                5  Real-time Updates         Weekly    Desktop   \n",
              "\n",
              "  NotificationsEnabled UsageEnvironment  DailyUsageMinutes  \n",
              "0                  Yes             Cafe                 16  \n",
              "1                  Yes             Work                103  \n",
              "2                  Yes           School                 98  \n",
              "3                   No             Cafe                120  \n",
              "4                  Yes           School                148  "
            ],
            "text/html": [
              "\n",
              "  <div id=\"df-21fd068c-7f80-4e18-a498-2955b825e7b6\" class=\"colab-df-container\">\n",
              "    <div>\n",
              "<style scoped>\n",
              "    .dataframe tbody tr th:only-of-type {\n",
              "        vertical-align: middle;\n",
              "    }\n",
              "\n",
              "    .dataframe tbody tr th {\n",
              "        vertical-align: top;\n",
              "    }\n",
              "\n",
              "    .dataframe thead th {\n",
              "        text-align: right;\n",
              "    }\n",
              "</style>\n",
              "<table border=\"1\" class=\"dataframe\">\n",
              "  <thead>\n",
              "    <tr style=\"text-align: right;\">\n",
              "      <th></th>\n",
              "      <th>Name</th>\n",
              "      <th>Gender</th>\n",
              "      <th>City</th>\n",
              "      <th>Country</th>\n",
              "      <th>Age</th>\n",
              "      <th>Platform</th>\n",
              "      <th>YearsOnPlatform</th>\n",
              "      <th>PlatformPurpose</th>\n",
              "      <th>UsageFrequency</th>\n",
              "      <th>DeviceUsed</th>\n",
              "      <th>NotificationsEnabled</th>\n",
              "      <th>UsageEnvironment</th>\n",
              "      <th>DailyUsageMinutes</th>\n",
              "    </tr>\n",
              "  </thead>\n",
              "  <tbody>\n",
              "    <tr>\n",
              "      <th>0</th>\n",
              "      <td>Jesse Lawhorn</td>\n",
              "      <td>Female</td>\n",
              "      <td>Sibolga</td>\n",
              "      <td>Indonesia</td>\n",
              "      <td>66</td>\n",
              "      <td>LinkedIn</td>\n",
              "      <td>1</td>\n",
              "      <td>Sharing Moments</td>\n",
              "      <td>Weekly</td>\n",
              "      <td>Desktop</td>\n",
              "      <td>Yes</td>\n",
              "      <td>Cafe</td>\n",
              "      <td>16</td>\n",
              "    </tr>\n",
              "    <tr>\n",
              "      <th>1</th>\n",
              "      <td>Stacy Payne</td>\n",
              "      <td>Female</td>\n",
              "      <td>Al Abyār</td>\n",
              "      <td>Libya</td>\n",
              "      <td>20</td>\n",
              "      <td>Snapchat</td>\n",
              "      <td>3</td>\n",
              "      <td>Networking</td>\n",
              "      <td>Daily</td>\n",
              "      <td>Mobile</td>\n",
              "      <td>Yes</td>\n",
              "      <td>Work</td>\n",
              "      <td>103</td>\n",
              "    </tr>\n",
              "    <tr>\n",
              "      <th>2</th>\n",
              "      <td>Katrina Nicewander</td>\n",
              "      <td>Female</td>\n",
              "      <td>Wādī as Sīr</td>\n",
              "      <td>Jordan</td>\n",
              "      <td>25</td>\n",
              "      <td>Twitter</td>\n",
              "      <td>1</td>\n",
              "      <td>Content Creation</td>\n",
              "      <td>Daily</td>\n",
              "      <td>Mobile</td>\n",
              "      <td>Yes</td>\n",
              "      <td>School</td>\n",
              "      <td>98</td>\n",
              "    </tr>\n",
              "    <tr>\n",
              "      <th>3</th>\n",
              "      <td>Eric Yarbrough</td>\n",
              "      <td>Male</td>\n",
              "      <td>Matera</td>\n",
              "      <td>Italy</td>\n",
              "      <td>40</td>\n",
              "      <td>Snapchat</td>\n",
              "      <td>4</td>\n",
              "      <td>Real-time Updates</td>\n",
              "      <td>Monthly</td>\n",
              "      <td>Desktop</td>\n",
              "      <td>No</td>\n",
              "      <td>Cafe</td>\n",
              "      <td>120</td>\n",
              "    </tr>\n",
              "    <tr>\n",
              "      <th>4</th>\n",
              "      <td>Daniel Adkins</td>\n",
              "      <td>Female</td>\n",
              "      <td>Biruaca</td>\n",
              "      <td>Venezuela</td>\n",
              "      <td>69</td>\n",
              "      <td>Snapchat</td>\n",
              "      <td>5</td>\n",
              "      <td>Real-time Updates</td>\n",
              "      <td>Weekly</td>\n",
              "      <td>Desktop</td>\n",
              "      <td>Yes</td>\n",
              "      <td>School</td>\n",
              "      <td>148</td>\n",
              "    </tr>\n",
              "  </tbody>\n",
              "</table>\n",
              "</div>\n",
              "    <div class=\"colab-df-buttons\">\n",
              "\n",
              "  <div class=\"colab-df-container\">\n",
              "    <button class=\"colab-df-convert\" onclick=\"convertToInteractive('df-21fd068c-7f80-4e18-a498-2955b825e7b6')\"\n",
              "            title=\"Convert this dataframe to an interactive table.\"\n",
              "            style=\"display:none;\">\n",
              "\n",
              "  <svg xmlns=\"http://www.w3.org/2000/svg\" height=\"24px\" viewBox=\"0 -960 960 960\">\n",
              "    <path d=\"M120-120v-720h720v720H120Zm60-500h600v-160H180v160Zm220 220h160v-160H400v160Zm0 220h160v-160H400v160ZM180-400h160v-160H180v160Zm440 0h160v-160H620v160ZM180-180h160v-160H180v160Zm440 0h160v-160H620v160Z\"/>\n",
              "  </svg>\n",
              "    </button>\n",
              "\n",
              "  <style>\n",
              "    .colab-df-container {\n",
              "      display:flex;\n",
              "      gap: 12px;\n",
              "    }\n",
              "\n",
              "    .colab-df-convert {\n",
              "      background-color: #E8F0FE;\n",
              "      border: none;\n",
              "      border-radius: 50%;\n",
              "      cursor: pointer;\n",
              "      display: none;\n",
              "      fill: #1967D2;\n",
              "      height: 32px;\n",
              "      padding: 0 0 0 0;\n",
              "      width: 32px;\n",
              "    }\n",
              "\n",
              "    .colab-df-convert:hover {\n",
              "      background-color: #E2EBFA;\n",
              "      box-shadow: 0px 1px 2px rgba(60, 64, 67, 0.3), 0px 1px 3px 1px rgba(60, 64, 67, 0.15);\n",
              "      fill: #174EA6;\n",
              "    }\n",
              "\n",
              "    .colab-df-buttons div {\n",
              "      margin-bottom: 4px;\n",
              "    }\n",
              "\n",
              "    [theme=dark] .colab-df-convert {\n",
              "      background-color: #3B4455;\n",
              "      fill: #D2E3FC;\n",
              "    }\n",
              "\n",
              "    [theme=dark] .colab-df-convert:hover {\n",
              "      background-color: #434B5C;\n",
              "      box-shadow: 0px 1px 3px 1px rgba(0, 0, 0, 0.15);\n",
              "      filter: drop-shadow(0px 1px 2px rgba(0, 0, 0, 0.3));\n",
              "      fill: #FFFFFF;\n",
              "    }\n",
              "  </style>\n",
              "\n",
              "    <script>\n",
              "      const buttonEl =\n",
              "        document.querySelector('#df-21fd068c-7f80-4e18-a498-2955b825e7b6 button.colab-df-convert');\n",
              "      buttonEl.style.display =\n",
              "        google.colab.kernel.accessAllowed ? 'block' : 'none';\n",
              "\n",
              "      async function convertToInteractive(key) {\n",
              "        const element = document.querySelector('#df-21fd068c-7f80-4e18-a498-2955b825e7b6');\n",
              "        const dataTable =\n",
              "          await google.colab.kernel.invokeFunction('convertToInteractive',\n",
              "                                                    [key], {});\n",
              "        if (!dataTable) return;\n",
              "\n",
              "        const docLinkHtml = 'Like what you see? Visit the ' +\n",
              "          '<a target=\"_blank\" href=https://colab.research.google.com/notebooks/data_table.ipynb>data table notebook</a>'\n",
              "          + ' to learn more about interactive tables.';\n",
              "        element.innerHTML = '';\n",
              "        dataTable['output_type'] = 'display_data';\n",
              "        await google.colab.output.renderOutput(dataTable, element);\n",
              "        const docLink = document.createElement('div');\n",
              "        docLink.innerHTML = docLinkHtml;\n",
              "        element.appendChild(docLink);\n",
              "      }\n",
              "    </script>\n",
              "  </div>\n",
              "\n",
              "\n",
              "    <div id=\"df-1297648e-7f0c-4d37-ac60-231e89bcddf7\">\n",
              "      <button class=\"colab-df-quickchart\" onclick=\"quickchart('df-1297648e-7f0c-4d37-ac60-231e89bcddf7')\"\n",
              "                title=\"Suggest charts\"\n",
              "                style=\"display:none;\">\n",
              "\n",
              "<svg xmlns=\"http://www.w3.org/2000/svg\" height=\"24px\"viewBox=\"0 0 24 24\"\n",
              "     width=\"24px\">\n",
              "    <g>\n",
              "        <path d=\"M19 3H5c-1.1 0-2 .9-2 2v14c0 1.1.9 2 2 2h14c1.1 0 2-.9 2-2V5c0-1.1-.9-2-2-2zM9 17H7v-7h2v7zm4 0h-2V7h2v10zm4 0h-2v-4h2v4z\"/>\n",
              "    </g>\n",
              "</svg>\n",
              "      </button>\n",
              "\n",
              "<style>\n",
              "  .colab-df-quickchart {\n",
              "      --bg-color: #E8F0FE;\n",
              "      --fill-color: #1967D2;\n",
              "      --hover-bg-color: #E2EBFA;\n",
              "      --hover-fill-color: #174EA6;\n",
              "      --disabled-fill-color: #AAA;\n",
              "      --disabled-bg-color: #DDD;\n",
              "  }\n",
              "\n",
              "  [theme=dark] .colab-df-quickchart {\n",
              "      --bg-color: #3B4455;\n",
              "      --fill-color: #D2E3FC;\n",
              "      --hover-bg-color: #434B5C;\n",
              "      --hover-fill-color: #FFFFFF;\n",
              "      --disabled-bg-color: #3B4455;\n",
              "      --disabled-fill-color: #666;\n",
              "  }\n",
              "\n",
              "  .colab-df-quickchart {\n",
              "    background-color: var(--bg-color);\n",
              "    border: none;\n",
              "    border-radius: 50%;\n",
              "    cursor: pointer;\n",
              "    display: none;\n",
              "    fill: var(--fill-color);\n",
              "    height: 32px;\n",
              "    padding: 0;\n",
              "    width: 32px;\n",
              "  }\n",
              "\n",
              "  .colab-df-quickchart:hover {\n",
              "    background-color: var(--hover-bg-color);\n",
              "    box-shadow: 0 1px 2px rgba(60, 64, 67, 0.3), 0 1px 3px 1px rgba(60, 64, 67, 0.15);\n",
              "    fill: var(--button-hover-fill-color);\n",
              "  }\n",
              "\n",
              "  .colab-df-quickchart-complete:disabled,\n",
              "  .colab-df-quickchart-complete:disabled:hover {\n",
              "    background-color: var(--disabled-bg-color);\n",
              "    fill: var(--disabled-fill-color);\n",
              "    box-shadow: none;\n",
              "  }\n",
              "\n",
              "  .colab-df-spinner {\n",
              "    border: 2px solid var(--fill-color);\n",
              "    border-color: transparent;\n",
              "    border-bottom-color: var(--fill-color);\n",
              "    animation:\n",
              "      spin 1s steps(1) infinite;\n",
              "  }\n",
              "\n",
              "  @keyframes spin {\n",
              "    0% {\n",
              "      border-color: transparent;\n",
              "      border-bottom-color: var(--fill-color);\n",
              "      border-left-color: var(--fill-color);\n",
              "    }\n",
              "    20% {\n",
              "      border-color: transparent;\n",
              "      border-left-color: var(--fill-color);\n",
              "      border-top-color: var(--fill-color);\n",
              "    }\n",
              "    30% {\n",
              "      border-color: transparent;\n",
              "      border-left-color: var(--fill-color);\n",
              "      border-top-color: var(--fill-color);\n",
              "      border-right-color: var(--fill-color);\n",
              "    }\n",
              "    40% {\n",
              "      border-color: transparent;\n",
              "      border-right-color: var(--fill-color);\n",
              "      border-top-color: var(--fill-color);\n",
              "    }\n",
              "    60% {\n",
              "      border-color: transparent;\n",
              "      border-right-color: var(--fill-color);\n",
              "    }\n",
              "    80% {\n",
              "      border-color: transparent;\n",
              "      border-right-color: var(--fill-color);\n",
              "      border-bottom-color: var(--fill-color);\n",
              "    }\n",
              "    90% {\n",
              "      border-color: transparent;\n",
              "      border-bottom-color: var(--fill-color);\n",
              "    }\n",
              "  }\n",
              "</style>\n",
              "\n",
              "      <script>\n",
              "        async function quickchart(key) {\n",
              "          const quickchartButtonEl =\n",
              "            document.querySelector('#' + key + ' button');\n",
              "          quickchartButtonEl.disabled = true;  // To prevent multiple clicks.\n",
              "          quickchartButtonEl.classList.add('colab-df-spinner');\n",
              "          try {\n",
              "            const charts = await google.colab.kernel.invokeFunction(\n",
              "                'suggestCharts', [key], {});\n",
              "          } catch (error) {\n",
              "            console.error('Error during call to suggestCharts:', error);\n",
              "          }\n",
              "          quickchartButtonEl.classList.remove('colab-df-spinner');\n",
              "          quickchartButtonEl.classList.add('colab-df-quickchart-complete');\n",
              "        }\n",
              "        (() => {\n",
              "          let quickchartButtonEl =\n",
              "            document.querySelector('#df-1297648e-7f0c-4d37-ac60-231e89bcddf7 button');\n",
              "          quickchartButtonEl.style.display =\n",
              "            google.colab.kernel.accessAllowed ? 'block' : 'none';\n",
              "        })();\n",
              "      </script>\n",
              "    </div>\n",
              "\n",
              "    </div>\n",
              "  </div>\n"
            ],
            "application/vnd.google.colaboratory.intrinsic+json": {
              "type": "dataframe",
              "variable_name": "df",
              "summary": "{\n  \"name\": \"df\",\n  \"rows\": 100000,\n  \"fields\": [\n    {\n      \"column\": \"Name\",\n      \"properties\": {\n        \"dtype\": \"string\",\n        \"num_unique_values\": 92580,\n        \"samples\": [\n          \"Lynette Ebel\",\n          \"Avery Williamston\",\n          \"Veronica Cooper\"\n        ],\n        \"semantic_type\": \"\",\n        \"description\": \"\"\n      }\n    },\n    {\n      \"column\": \"Gender\",\n      \"properties\": {\n        \"dtype\": \"category\",\n        \"num_unique_values\": 2,\n        \"samples\": [\n          \"Male\",\n          \"Female\"\n        ],\n        \"semantic_type\": \"\",\n        \"description\": \"\"\n      }\n    },\n    {\n      \"column\": \"City\",\n      \"properties\": {\n        \"dtype\": \"category\",\n        \"num_unique_values\": 24452,\n        \"samples\": [\n          \"Puli\",\n          \"J\\u00e4rvenp\\u00e4\\u00e4\"\n        ],\n        \"semantic_type\": \"\",\n        \"description\": \"\"\n      }\n    },\n    {\n      \"column\": \"Country\",\n      \"properties\": {\n        \"dtype\": \"category\",\n        \"num_unique_values\": 244,\n        \"samples\": [\n          \"Ethiopia\",\n          \"United Kingdom\"\n        ],\n        \"semantic_type\": \"\",\n        \"description\": \"\"\n      }\n    },\n    {\n      \"column\": \"Age\",\n      \"properties\": {\n        \"dtype\": \"number\",\n        \"std\": 14,\n        \"min\": 20,\n        \"max\": 71,\n        \"num_unique_values\": 52,\n        \"samples\": [\n          34,\n          29\n        ],\n        \"semantic_type\": \"\",\n        \"description\": \"\"\n      }\n    },\n    {\n      \"column\": \"Platform\",\n      \"properties\": {\n        \"dtype\": \"category\",\n        \"num_unique_values\": 6,\n        \"samples\": [\n          \"LinkedIn\",\n          \"Snapchat\"\n        ],\n        \"semantic_type\": \"\",\n        \"description\": \"\"\n      }\n    },\n    {\n      \"column\": \"YearsOnPlatform\",\n      \"properties\": {\n        \"dtype\": \"number\",\n        \"std\": 2,\n        \"min\": 1,\n        \"max\": 10,\n        \"num_unique_values\": 10,\n        \"samples\": [\n          9,\n          3\n        ],\n        \"semantic_type\": \"\",\n        \"description\": \"\"\n      }\n    },\n    {\n      \"column\": \"PlatformPurpose\",\n      \"properties\": {\n        \"dtype\": \"category\",\n        \"num_unique_values\": 6,\n        \"samples\": [\n          \"Sharing Moments\",\n          \"Networking\"\n        ],\n        \"semantic_type\": \"\",\n        \"description\": \"\"\n      }\n    },\n    {\n      \"column\": \"UsageFrequency\",\n      \"properties\": {\n        \"dtype\": \"category\",\n        \"num_unique_values\": 3,\n        \"samples\": [\n          \"Weekly\",\n          \"Daily\"\n        ],\n        \"semantic_type\": \"\",\n        \"description\": \"\"\n      }\n    },\n    {\n      \"column\": \"DeviceUsed\",\n      \"properties\": {\n        \"dtype\": \"category\",\n        \"num_unique_values\": 4,\n        \"samples\": [\n          \"Mobile\",\n          \"Smart TV\"\n        ],\n        \"semantic_type\": \"\",\n        \"description\": \"\"\n      }\n    },\n    {\n      \"column\": \"NotificationsEnabled\",\n      \"properties\": {\n        \"dtype\": \"category\",\n        \"num_unique_values\": 2,\n        \"samples\": [\n          \"No\",\n          \"Yes\"\n        ],\n        \"semantic_type\": \"\",\n        \"description\": \"\"\n      }\n    },\n    {\n      \"column\": \"UsageEnvironment\",\n      \"properties\": {\n        \"dtype\": \"category\",\n        \"num_unique_values\": 5,\n        \"samples\": [\n          \"Work\",\n          \"Public Transport\"\n        ],\n        \"semantic_type\": \"\",\n        \"description\": \"\"\n      }\n    },\n    {\n      \"column\": \"DailyUsageMinutes\",\n      \"properties\": {\n        \"dtype\": \"number\",\n        \"std\": 54,\n        \"min\": 15,\n        \"max\": 240,\n        \"num_unique_values\": 226,\n        \"samples\": [\n          92,\n          123\n        ],\n        \"semantic_type\": \"\",\n        \"description\": \"\"\n      }\n    }\n  ]\n}"
            }
          },
          "metadata": {},
          "execution_count": 6
        }
      ]
    },
    {
      "cell_type": "markdown",
      "source": [
        "- This is a cleaned data, it has no null values\n",
        "\n",
        "- So, we can proceed with analysis\n"
      ],
      "metadata": {
        "id": "5msUzq4wV3ao"
      }
    },
    {
      "cell_type": "code",
      "source": [
        "df[\"Age\"].min()"
      ],
      "metadata": {
        "colab": {
          "base_uri": "https://localhost:8080/"
        },
        "id": "280kmpAujjfx",
        "outputId": "1085b625-5894-4599-bea6-e24d7e781810"
      },
      "execution_count": null,
      "outputs": [
        {
          "output_type": "execute_result",
          "data": {
            "text/plain": [
              "20"
            ]
          },
          "metadata": {},
          "execution_count": 5
        }
      ]
    },
    {
      "cell_type": "markdown",
      "source": [
        "- The minimum age group of users are 20 years old\n",
        "\n",
        "- And there no users below than 20 years old"
      ],
      "metadata": {
        "id": "MzQuTiPmjtrQ"
      }
    },
    {
      "cell_type": "code",
      "source": [
        "df[\"Age\"].max()"
      ],
      "metadata": {
        "colab": {
          "base_uri": "https://localhost:8080/"
        },
        "id": "qRlnnNJnjmiU",
        "outputId": "fd1de672-9666-49db-cd9d-d3a5c5c98ae9"
      },
      "execution_count": null,
      "outputs": [
        {
          "output_type": "execute_result",
          "data": {
            "text/plain": [
              "71"
            ]
          },
          "metadata": {},
          "execution_count": 6
        }
      ]
    },
    {
      "cell_type": "markdown",
      "source": [
        "- The maximum age group of users are 71 years old\n",
        "\n",
        "- And there are no users above than 71 years old"
      ],
      "metadata": {
        "id": "1avtjP0Tj0uK"
      }
    },
    {
      "cell_type": "code",
      "source": [
        "df[\"Age\"].nunique()"
      ],
      "metadata": {
        "colab": {
          "base_uri": "https://localhost:8080/"
        },
        "id": "JRkWQ1q6THef",
        "outputId": "f1912c0b-799e-458c-c436-0861058c5b90"
      },
      "execution_count": null,
      "outputs": [
        {
          "output_type": "execute_result",
          "data": {
            "text/plain": [
              "52"
            ]
          },
          "metadata": {},
          "execution_count": 23
        }
      ]
    },
    {
      "cell_type": "markdown",
      "source": [
        "- There are 52 age groups in the above dataset\n",
        "\n",
        "- I am dividing them into 3 groups\n",
        "\n",
        "- I am adding a new column and assigning 3 values to the 3 groups\n",
        "\n",
        "- First one with A where age is below than 37\n",
        "\n",
        "- Second one with B where age in between 37 and 54\n",
        "\n",
        "- Third one with C where age is above than 54"
      ],
      "metadata": {
        "id": "PGtkkxTnQw2Q"
      }
    },
    {
      "cell_type": "code",
      "source": [
        "df[\"AgeGroup\"]= pd.cut(df['Age'],\n",
        "                        bins=[0, 36, 54, float('inf')],\n",
        "                        labels=['A', 'B', 'C'],\n",
        "                        right=True)"
      ],
      "metadata": {
        "id": "Vd3Rx1stOxkD"
      },
      "execution_count": null,
      "outputs": []
    },
    {
      "cell_type": "code",
      "source": [
        "df.head()"
      ],
      "metadata": {
        "colab": {
          "base_uri": "https://localhost:8080/",
          "height": 206
        },
        "id": "8XCCxeNCPuBQ",
        "outputId": "d72a3811-c00b-48ec-ddfa-c34318eaf8b1"
      },
      "execution_count": null,
      "outputs": [
        {
          "output_type": "execute_result",
          "data": {
            "text/plain": [
              "                 Name  Gender         City    Country  Age  Platform  \\\n",
              "0       Jesse Lawhorn  Female      Sibolga  Indonesia   66  LinkedIn   \n",
              "1         Stacy Payne  Female     Al Abyār      Libya   20  Snapchat   \n",
              "2  Katrina Nicewander  Female  Wādī as Sīr     Jordan   25   Twitter   \n",
              "3      Eric Yarbrough    Male       Matera      Italy   40  Snapchat   \n",
              "4       Daniel Adkins  Female      Biruaca  Venezuela   69  Snapchat   \n",
              "\n",
              "   YearsOnPlatform    PlatformPurpose UsageFrequency DeviceUsed  \\\n",
              "0                1    Sharing Moments         Weekly    Desktop   \n",
              "1                3         Networking          Daily     Mobile   \n",
              "2                1   Content Creation          Daily     Mobile   \n",
              "3                4  Real-time Updates        Monthly    Desktop   \n",
              "4                5  Real-time Updates         Weekly    Desktop   \n",
              "\n",
              "  NotificationsEnabled UsageEnvironment  DailyUsageMinutes AgeGroup  \n",
              "0                  Yes             Cafe                 16        C  \n",
              "1                  Yes             Work                103        A  \n",
              "2                  Yes           School                 98        A  \n",
              "3                   No             Cafe                120        B  \n",
              "4                  Yes           School                148        C  "
            ],
            "text/html": [
              "\n",
              "  <div id=\"df-d80d9552-8bac-48b3-aeb6-abe881bf0ac0\" class=\"colab-df-container\">\n",
              "    <div>\n",
              "<style scoped>\n",
              "    .dataframe tbody tr th:only-of-type {\n",
              "        vertical-align: middle;\n",
              "    }\n",
              "\n",
              "    .dataframe tbody tr th {\n",
              "        vertical-align: top;\n",
              "    }\n",
              "\n",
              "    .dataframe thead th {\n",
              "        text-align: right;\n",
              "    }\n",
              "</style>\n",
              "<table border=\"1\" class=\"dataframe\">\n",
              "  <thead>\n",
              "    <tr style=\"text-align: right;\">\n",
              "      <th></th>\n",
              "      <th>Name</th>\n",
              "      <th>Gender</th>\n",
              "      <th>City</th>\n",
              "      <th>Country</th>\n",
              "      <th>Age</th>\n",
              "      <th>Platform</th>\n",
              "      <th>YearsOnPlatform</th>\n",
              "      <th>PlatformPurpose</th>\n",
              "      <th>UsageFrequency</th>\n",
              "      <th>DeviceUsed</th>\n",
              "      <th>NotificationsEnabled</th>\n",
              "      <th>UsageEnvironment</th>\n",
              "      <th>DailyUsageMinutes</th>\n",
              "      <th>AgeGroup</th>\n",
              "    </tr>\n",
              "  </thead>\n",
              "  <tbody>\n",
              "    <tr>\n",
              "      <th>0</th>\n",
              "      <td>Jesse Lawhorn</td>\n",
              "      <td>Female</td>\n",
              "      <td>Sibolga</td>\n",
              "      <td>Indonesia</td>\n",
              "      <td>66</td>\n",
              "      <td>LinkedIn</td>\n",
              "      <td>1</td>\n",
              "      <td>Sharing Moments</td>\n",
              "      <td>Weekly</td>\n",
              "      <td>Desktop</td>\n",
              "      <td>Yes</td>\n",
              "      <td>Cafe</td>\n",
              "      <td>16</td>\n",
              "      <td>C</td>\n",
              "    </tr>\n",
              "    <tr>\n",
              "      <th>1</th>\n",
              "      <td>Stacy Payne</td>\n",
              "      <td>Female</td>\n",
              "      <td>Al Abyār</td>\n",
              "      <td>Libya</td>\n",
              "      <td>20</td>\n",
              "      <td>Snapchat</td>\n",
              "      <td>3</td>\n",
              "      <td>Networking</td>\n",
              "      <td>Daily</td>\n",
              "      <td>Mobile</td>\n",
              "      <td>Yes</td>\n",
              "      <td>Work</td>\n",
              "      <td>103</td>\n",
              "      <td>A</td>\n",
              "    </tr>\n",
              "    <tr>\n",
              "      <th>2</th>\n",
              "      <td>Katrina Nicewander</td>\n",
              "      <td>Female</td>\n",
              "      <td>Wādī as Sīr</td>\n",
              "      <td>Jordan</td>\n",
              "      <td>25</td>\n",
              "      <td>Twitter</td>\n",
              "      <td>1</td>\n",
              "      <td>Content Creation</td>\n",
              "      <td>Daily</td>\n",
              "      <td>Mobile</td>\n",
              "      <td>Yes</td>\n",
              "      <td>School</td>\n",
              "      <td>98</td>\n",
              "      <td>A</td>\n",
              "    </tr>\n",
              "    <tr>\n",
              "      <th>3</th>\n",
              "      <td>Eric Yarbrough</td>\n",
              "      <td>Male</td>\n",
              "      <td>Matera</td>\n",
              "      <td>Italy</td>\n",
              "      <td>40</td>\n",
              "      <td>Snapchat</td>\n",
              "      <td>4</td>\n",
              "      <td>Real-time Updates</td>\n",
              "      <td>Monthly</td>\n",
              "      <td>Desktop</td>\n",
              "      <td>No</td>\n",
              "      <td>Cafe</td>\n",
              "      <td>120</td>\n",
              "      <td>B</td>\n",
              "    </tr>\n",
              "    <tr>\n",
              "      <th>4</th>\n",
              "      <td>Daniel Adkins</td>\n",
              "      <td>Female</td>\n",
              "      <td>Biruaca</td>\n",
              "      <td>Venezuela</td>\n",
              "      <td>69</td>\n",
              "      <td>Snapchat</td>\n",
              "      <td>5</td>\n",
              "      <td>Real-time Updates</td>\n",
              "      <td>Weekly</td>\n",
              "      <td>Desktop</td>\n",
              "      <td>Yes</td>\n",
              "      <td>School</td>\n",
              "      <td>148</td>\n",
              "      <td>C</td>\n",
              "    </tr>\n",
              "  </tbody>\n",
              "</table>\n",
              "</div>\n",
              "    <div class=\"colab-df-buttons\">\n",
              "\n",
              "  <div class=\"colab-df-container\">\n",
              "    <button class=\"colab-df-convert\" onclick=\"convertToInteractive('df-d80d9552-8bac-48b3-aeb6-abe881bf0ac0')\"\n",
              "            title=\"Convert this dataframe to an interactive table.\"\n",
              "            style=\"display:none;\">\n",
              "\n",
              "  <svg xmlns=\"http://www.w3.org/2000/svg\" height=\"24px\" viewBox=\"0 -960 960 960\">\n",
              "    <path d=\"M120-120v-720h720v720H120Zm60-500h600v-160H180v160Zm220 220h160v-160H400v160Zm0 220h160v-160H400v160ZM180-400h160v-160H180v160Zm440 0h160v-160H620v160ZM180-180h160v-160H180v160Zm440 0h160v-160H620v160Z\"/>\n",
              "  </svg>\n",
              "    </button>\n",
              "\n",
              "  <style>\n",
              "    .colab-df-container {\n",
              "      display:flex;\n",
              "      gap: 12px;\n",
              "    }\n",
              "\n",
              "    .colab-df-convert {\n",
              "      background-color: #E8F0FE;\n",
              "      border: none;\n",
              "      border-radius: 50%;\n",
              "      cursor: pointer;\n",
              "      display: none;\n",
              "      fill: #1967D2;\n",
              "      height: 32px;\n",
              "      padding: 0 0 0 0;\n",
              "      width: 32px;\n",
              "    }\n",
              "\n",
              "    .colab-df-convert:hover {\n",
              "      background-color: #E2EBFA;\n",
              "      box-shadow: 0px 1px 2px rgba(60, 64, 67, 0.3), 0px 1px 3px 1px rgba(60, 64, 67, 0.15);\n",
              "      fill: #174EA6;\n",
              "    }\n",
              "\n",
              "    .colab-df-buttons div {\n",
              "      margin-bottom: 4px;\n",
              "    }\n",
              "\n",
              "    [theme=dark] .colab-df-convert {\n",
              "      background-color: #3B4455;\n",
              "      fill: #D2E3FC;\n",
              "    }\n",
              "\n",
              "    [theme=dark] .colab-df-convert:hover {\n",
              "      background-color: #434B5C;\n",
              "      box-shadow: 0px 1px 3px 1px rgba(0, 0, 0, 0.15);\n",
              "      filter: drop-shadow(0px 1px 2px rgba(0, 0, 0, 0.3));\n",
              "      fill: #FFFFFF;\n",
              "    }\n",
              "  </style>\n",
              "\n",
              "    <script>\n",
              "      const buttonEl =\n",
              "        document.querySelector('#df-d80d9552-8bac-48b3-aeb6-abe881bf0ac0 button.colab-df-convert');\n",
              "      buttonEl.style.display =\n",
              "        google.colab.kernel.accessAllowed ? 'block' : 'none';\n",
              "\n",
              "      async function convertToInteractive(key) {\n",
              "        const element = document.querySelector('#df-d80d9552-8bac-48b3-aeb6-abe881bf0ac0');\n",
              "        const dataTable =\n",
              "          await google.colab.kernel.invokeFunction('convertToInteractive',\n",
              "                                                    [key], {});\n",
              "        if (!dataTable) return;\n",
              "\n",
              "        const docLinkHtml = 'Like what you see? Visit the ' +\n",
              "          '<a target=\"_blank\" href=https://colab.research.google.com/notebooks/data_table.ipynb>data table notebook</a>'\n",
              "          + ' to learn more about interactive tables.';\n",
              "        element.innerHTML = '';\n",
              "        dataTable['output_type'] = 'display_data';\n",
              "        await google.colab.output.renderOutput(dataTable, element);\n",
              "        const docLink = document.createElement('div');\n",
              "        docLink.innerHTML = docLinkHtml;\n",
              "        element.appendChild(docLink);\n",
              "      }\n",
              "    </script>\n",
              "  </div>\n",
              "\n",
              "\n",
              "    <div id=\"df-22741d16-74a0-453c-ad2d-b225c6cffa39\">\n",
              "      <button class=\"colab-df-quickchart\" onclick=\"quickchart('df-22741d16-74a0-453c-ad2d-b225c6cffa39')\"\n",
              "                title=\"Suggest charts\"\n",
              "                style=\"display:none;\">\n",
              "\n",
              "<svg xmlns=\"http://www.w3.org/2000/svg\" height=\"24px\"viewBox=\"0 0 24 24\"\n",
              "     width=\"24px\">\n",
              "    <g>\n",
              "        <path d=\"M19 3H5c-1.1 0-2 .9-2 2v14c0 1.1.9 2 2 2h14c1.1 0 2-.9 2-2V5c0-1.1-.9-2-2-2zM9 17H7v-7h2v7zm4 0h-2V7h2v10zm4 0h-2v-4h2v4z\"/>\n",
              "    </g>\n",
              "</svg>\n",
              "      </button>\n",
              "\n",
              "<style>\n",
              "  .colab-df-quickchart {\n",
              "      --bg-color: #E8F0FE;\n",
              "      --fill-color: #1967D2;\n",
              "      --hover-bg-color: #E2EBFA;\n",
              "      --hover-fill-color: #174EA6;\n",
              "      --disabled-fill-color: #AAA;\n",
              "      --disabled-bg-color: #DDD;\n",
              "  }\n",
              "\n",
              "  [theme=dark] .colab-df-quickchart {\n",
              "      --bg-color: #3B4455;\n",
              "      --fill-color: #D2E3FC;\n",
              "      --hover-bg-color: #434B5C;\n",
              "      --hover-fill-color: #FFFFFF;\n",
              "      --disabled-bg-color: #3B4455;\n",
              "      --disabled-fill-color: #666;\n",
              "  }\n",
              "\n",
              "  .colab-df-quickchart {\n",
              "    background-color: var(--bg-color);\n",
              "    border: none;\n",
              "    border-radius: 50%;\n",
              "    cursor: pointer;\n",
              "    display: none;\n",
              "    fill: var(--fill-color);\n",
              "    height: 32px;\n",
              "    padding: 0;\n",
              "    width: 32px;\n",
              "  }\n",
              "\n",
              "  .colab-df-quickchart:hover {\n",
              "    background-color: var(--hover-bg-color);\n",
              "    box-shadow: 0 1px 2px rgba(60, 64, 67, 0.3), 0 1px 3px 1px rgba(60, 64, 67, 0.15);\n",
              "    fill: var(--button-hover-fill-color);\n",
              "  }\n",
              "\n",
              "  .colab-df-quickchart-complete:disabled,\n",
              "  .colab-df-quickchart-complete:disabled:hover {\n",
              "    background-color: var(--disabled-bg-color);\n",
              "    fill: var(--disabled-fill-color);\n",
              "    box-shadow: none;\n",
              "  }\n",
              "\n",
              "  .colab-df-spinner {\n",
              "    border: 2px solid var(--fill-color);\n",
              "    border-color: transparent;\n",
              "    border-bottom-color: var(--fill-color);\n",
              "    animation:\n",
              "      spin 1s steps(1) infinite;\n",
              "  }\n",
              "\n",
              "  @keyframes spin {\n",
              "    0% {\n",
              "      border-color: transparent;\n",
              "      border-bottom-color: var(--fill-color);\n",
              "      border-left-color: var(--fill-color);\n",
              "    }\n",
              "    20% {\n",
              "      border-color: transparent;\n",
              "      border-left-color: var(--fill-color);\n",
              "      border-top-color: var(--fill-color);\n",
              "    }\n",
              "    30% {\n",
              "      border-color: transparent;\n",
              "      border-left-color: var(--fill-color);\n",
              "      border-top-color: var(--fill-color);\n",
              "      border-right-color: var(--fill-color);\n",
              "    }\n",
              "    40% {\n",
              "      border-color: transparent;\n",
              "      border-right-color: var(--fill-color);\n",
              "      border-top-color: var(--fill-color);\n",
              "    }\n",
              "    60% {\n",
              "      border-color: transparent;\n",
              "      border-right-color: var(--fill-color);\n",
              "    }\n",
              "    80% {\n",
              "      border-color: transparent;\n",
              "      border-right-color: var(--fill-color);\n",
              "      border-bottom-color: var(--fill-color);\n",
              "    }\n",
              "    90% {\n",
              "      border-color: transparent;\n",
              "      border-bottom-color: var(--fill-color);\n",
              "    }\n",
              "  }\n",
              "</style>\n",
              "\n",
              "      <script>\n",
              "        async function quickchart(key) {\n",
              "          const quickchartButtonEl =\n",
              "            document.querySelector('#' + key + ' button');\n",
              "          quickchartButtonEl.disabled = true;  // To prevent multiple clicks.\n",
              "          quickchartButtonEl.classList.add('colab-df-spinner');\n",
              "          try {\n",
              "            const charts = await google.colab.kernel.invokeFunction(\n",
              "                'suggestCharts', [key], {});\n",
              "          } catch (error) {\n",
              "            console.error('Error during call to suggestCharts:', error);\n",
              "          }\n",
              "          quickchartButtonEl.classList.remove('colab-df-spinner');\n",
              "          quickchartButtonEl.classList.add('colab-df-quickchart-complete');\n",
              "        }\n",
              "        (() => {\n",
              "          let quickchartButtonEl =\n",
              "            document.querySelector('#df-22741d16-74a0-453c-ad2d-b225c6cffa39 button');\n",
              "          quickchartButtonEl.style.display =\n",
              "            google.colab.kernel.accessAllowed ? 'block' : 'none';\n",
              "        })();\n",
              "      </script>\n",
              "    </div>\n",
              "\n",
              "    </div>\n",
              "  </div>\n"
            ],
            "application/vnd.google.colaboratory.intrinsic+json": {
              "type": "dataframe",
              "variable_name": "df",
              "summary": "{\n  \"name\": \"df\",\n  \"rows\": 100000,\n  \"fields\": [\n    {\n      \"column\": \"Name\",\n      \"properties\": {\n        \"dtype\": \"string\",\n        \"num_unique_values\": 92580,\n        \"samples\": [\n          \"Lynette Ebel\",\n          \"Avery Williamston\",\n          \"Veronica Cooper\"\n        ],\n        \"semantic_type\": \"\",\n        \"description\": \"\"\n      }\n    },\n    {\n      \"column\": \"Gender\",\n      \"properties\": {\n        \"dtype\": \"category\",\n        \"num_unique_values\": 2,\n        \"samples\": [\n          \"Male\",\n          \"Female\"\n        ],\n        \"semantic_type\": \"\",\n        \"description\": \"\"\n      }\n    },\n    {\n      \"column\": \"City\",\n      \"properties\": {\n        \"dtype\": \"category\",\n        \"num_unique_values\": 24452,\n        \"samples\": [\n          \"Puli\",\n          \"J\\u00e4rvenp\\u00e4\\u00e4\"\n        ],\n        \"semantic_type\": \"\",\n        \"description\": \"\"\n      }\n    },\n    {\n      \"column\": \"Country\",\n      \"properties\": {\n        \"dtype\": \"category\",\n        \"num_unique_values\": 244,\n        \"samples\": [\n          \"Ethiopia\",\n          \"United Kingdom\"\n        ],\n        \"semantic_type\": \"\",\n        \"description\": \"\"\n      }\n    },\n    {\n      \"column\": \"Age\",\n      \"properties\": {\n        \"dtype\": \"number\",\n        \"std\": 14,\n        \"min\": 20,\n        \"max\": 71,\n        \"num_unique_values\": 52,\n        \"samples\": [\n          34,\n          29\n        ],\n        \"semantic_type\": \"\",\n        \"description\": \"\"\n      }\n    },\n    {\n      \"column\": \"Platform\",\n      \"properties\": {\n        \"dtype\": \"category\",\n        \"num_unique_values\": 6,\n        \"samples\": [\n          \"LinkedIn\",\n          \"Snapchat\"\n        ],\n        \"semantic_type\": \"\",\n        \"description\": \"\"\n      }\n    },\n    {\n      \"column\": \"YearsOnPlatform\",\n      \"properties\": {\n        \"dtype\": \"number\",\n        \"std\": 2,\n        \"min\": 1,\n        \"max\": 10,\n        \"num_unique_values\": 10,\n        \"samples\": [\n          9,\n          3\n        ],\n        \"semantic_type\": \"\",\n        \"description\": \"\"\n      }\n    },\n    {\n      \"column\": \"PlatformPurpose\",\n      \"properties\": {\n        \"dtype\": \"category\",\n        \"num_unique_values\": 6,\n        \"samples\": [\n          \"Sharing Moments\",\n          \"Networking\"\n        ],\n        \"semantic_type\": \"\",\n        \"description\": \"\"\n      }\n    },\n    {\n      \"column\": \"UsageFrequency\",\n      \"properties\": {\n        \"dtype\": \"category\",\n        \"num_unique_values\": 3,\n        \"samples\": [\n          \"Weekly\",\n          \"Daily\"\n        ],\n        \"semantic_type\": \"\",\n        \"description\": \"\"\n      }\n    },\n    {\n      \"column\": \"DeviceUsed\",\n      \"properties\": {\n        \"dtype\": \"category\",\n        \"num_unique_values\": 4,\n        \"samples\": [\n          \"Mobile\",\n          \"Smart TV\"\n        ],\n        \"semantic_type\": \"\",\n        \"description\": \"\"\n      }\n    },\n    {\n      \"column\": \"NotificationsEnabled\",\n      \"properties\": {\n        \"dtype\": \"category\",\n        \"num_unique_values\": 2,\n        \"samples\": [\n          \"No\",\n          \"Yes\"\n        ],\n        \"semantic_type\": \"\",\n        \"description\": \"\"\n      }\n    },\n    {\n      \"column\": \"UsageEnvironment\",\n      \"properties\": {\n        \"dtype\": \"category\",\n        \"num_unique_values\": 5,\n        \"samples\": [\n          \"Work\",\n          \"Public Transport\"\n        ],\n        \"semantic_type\": \"\",\n        \"description\": \"\"\n      }\n    },\n    {\n      \"column\": \"DailyUsageMinutes\",\n      \"properties\": {\n        \"dtype\": \"number\",\n        \"std\": 54,\n        \"min\": 15,\n        \"max\": 240,\n        \"num_unique_values\": 226,\n        \"samples\": [\n          92,\n          123\n        ],\n        \"semantic_type\": \"\",\n        \"description\": \"\"\n      }\n    },\n    {\n      \"column\": \"AgeGroup\",\n      \"properties\": {\n        \"dtype\": \"category\",\n        \"num_unique_values\": 3,\n        \"samples\": [\n          \"C\",\n          \"A\"\n        ],\n        \"semantic_type\": \"\",\n        \"description\": \"\"\n      }\n    }\n  ]\n}"
            }
          },
          "metadata": {},
          "execution_count": 18
        }
      ]
    },
    {
      "cell_type": "code",
      "source": [
        "df[\"AgeGroup\"].value_counts()"
      ],
      "metadata": {
        "colab": {
          "base_uri": "https://localhost:8080/",
          "height": 209
        },
        "id": "dctGblB4P21k",
        "outputId": "1db318b8-e729-4710-ddcf-5b5f484d1f01"
      },
      "execution_count": null,
      "outputs": [
        {
          "output_type": "execute_result",
          "data": {
            "text/plain": [
              "AgeGroup\n",
              "B    35218\n",
              "A    32783\n",
              "C    31999\n",
              "Name: count, dtype: int64"
            ],
            "text/html": [
              "<div>\n",
              "<style scoped>\n",
              "    .dataframe tbody tr th:only-of-type {\n",
              "        vertical-align: middle;\n",
              "    }\n",
              "\n",
              "    .dataframe tbody tr th {\n",
              "        vertical-align: top;\n",
              "    }\n",
              "\n",
              "    .dataframe thead th {\n",
              "        text-align: right;\n",
              "    }\n",
              "</style>\n",
              "<table border=\"1\" class=\"dataframe\">\n",
              "  <thead>\n",
              "    <tr style=\"text-align: right;\">\n",
              "      <th></th>\n",
              "      <th>count</th>\n",
              "    </tr>\n",
              "    <tr>\n",
              "      <th>AgeGroup</th>\n",
              "      <th></th>\n",
              "    </tr>\n",
              "  </thead>\n",
              "  <tbody>\n",
              "    <tr>\n",
              "      <th>B</th>\n",
              "      <td>35218</td>\n",
              "    </tr>\n",
              "    <tr>\n",
              "      <th>A</th>\n",
              "      <td>32783</td>\n",
              "    </tr>\n",
              "    <tr>\n",
              "      <th>C</th>\n",
              "      <td>31999</td>\n",
              "    </tr>\n",
              "  </tbody>\n",
              "</table>\n",
              "</div><br><label><b>dtype:</b> int64</label>"
            ]
          },
          "metadata": {},
          "execution_count": 29
        }
      ]
    },
    {
      "cell_type": "markdown",
      "source": [
        "The B AgeGroup that is users who are in between 37 and 54 years old are using social Media than other two groups"
      ],
      "metadata": {
        "id": "U9HQxEMYRbJ_"
      }
    },
    {
      "cell_type": "code",
      "source": [
        "df[\"Platform\"].value_counts()"
      ],
      "metadata": {
        "colab": {
          "base_uri": "https://localhost:8080/",
          "height": 303
        },
        "id": "Ols-_9LokNUg",
        "outputId": "3958563a-3aa3-4032-ab18-d70687e1fdda"
      },
      "execution_count": null,
      "outputs": [
        {
          "output_type": "execute_result",
          "data": {
            "text/plain": [
              "Platform\n",
              "Snapchat     16810\n",
              "Facebook     16799\n",
              "LinkedIn     16776\n",
              "TikTok       16633\n",
              "Instagram    16592\n",
              "Twitter      16390\n",
              "Name: count, dtype: int64"
            ],
            "text/html": [
              "<div>\n",
              "<style scoped>\n",
              "    .dataframe tbody tr th:only-of-type {\n",
              "        vertical-align: middle;\n",
              "    }\n",
              "\n",
              "    .dataframe tbody tr th {\n",
              "        vertical-align: top;\n",
              "    }\n",
              "\n",
              "    .dataframe thead th {\n",
              "        text-align: right;\n",
              "    }\n",
              "</style>\n",
              "<table border=\"1\" class=\"dataframe\">\n",
              "  <thead>\n",
              "    <tr style=\"text-align: right;\">\n",
              "      <th></th>\n",
              "      <th>count</th>\n",
              "    </tr>\n",
              "    <tr>\n",
              "      <th>Platform</th>\n",
              "      <th></th>\n",
              "    </tr>\n",
              "  </thead>\n",
              "  <tbody>\n",
              "    <tr>\n",
              "      <th>Snapchat</th>\n",
              "      <td>16810</td>\n",
              "    </tr>\n",
              "    <tr>\n",
              "      <th>Facebook</th>\n",
              "      <td>16799</td>\n",
              "    </tr>\n",
              "    <tr>\n",
              "      <th>LinkedIn</th>\n",
              "      <td>16776</td>\n",
              "    </tr>\n",
              "    <tr>\n",
              "      <th>TikTok</th>\n",
              "      <td>16633</td>\n",
              "    </tr>\n",
              "    <tr>\n",
              "      <th>Instagram</th>\n",
              "      <td>16592</td>\n",
              "    </tr>\n",
              "    <tr>\n",
              "      <th>Twitter</th>\n",
              "      <td>16390</td>\n",
              "    </tr>\n",
              "  </tbody>\n",
              "</table>\n",
              "</div><br><label><b>dtype:</b> int64</label>"
            ]
          },
          "metadata": {},
          "execution_count": 30
        }
      ]
    },
    {
      "cell_type": "markdown",
      "source": [
        "- All platforms are having more than 16000 users\n",
        "\n",
        "- But the platform Snapchat having more number users among all of them"
      ],
      "metadata": {
        "id": "yvGNcJ4LkTDr"
      }
    },
    {
      "cell_type": "code",
      "source": [
        "sns.countplot(df,x=\"Platform\",hue=\"Gender\")\n",
        "plt.legend(title='Gender',bbox_to_anchor=(1.05, 1), loc='upper left')"
      ],
      "metadata": {
        "id": "rNAvimgNWdnf",
        "colab": {
          "base_uri": "https://localhost:8080/",
          "height": 467
        },
        "outputId": "b5c1b382-f4b8-47ff-9928-b3e18770114d"
      },
      "execution_count": null,
      "outputs": [
        {
          "output_type": "execute_result",
          "data": {
            "text/plain": [
              "<matplotlib.legend.Legend at 0x7b6a7f3d2090>"
            ]
          },
          "metadata": {},
          "execution_count": 36
        },
        {
          "output_type": "display_data",
          "data": {
            "text/plain": [
              "<Figure size 640x480 with 1 Axes>"
            ],
            "image/png": "[encoded data removed]"
          },
          "metadata": {}
        }
      ]
    },
    {
      "cell_type": "markdown",
      "source": [
        "- Facebook, Instagram and Twitter are more used by Males than Females,\n",
        "\n",
        "- And Females users are having dominance in Tiktok platform,\n",
        "\n",
        "- And Linked and Snapchat platforms are used equally by both the Genders."
      ],
      "metadata": {
        "id": "MiLcTG-emqW0"
      }
    },
    {
      "cell_type": "code",
      "source": [
        "sns.countplot(df,x=\"Platform\",hue=\"AgeGroup\")\n",
        "plt.legend(title='AgeGroup', bbox_to_anchor=(1.05, 1), loc='upper left')"
      ],
      "metadata": {
        "colab": {
          "base_uri": "https://localhost:8080/",
          "height": 467
        },
        "id": "tmP3sLSiVN09",
        "outputId": "24f5f3c6-c696-4b3a-a6a0-85d41c886541"
      },
      "execution_count": null,
      "outputs": [
        {
          "output_type": "execute_result",
          "data": {
            "text/plain": [
              "<matplotlib.legend.Legend at 0x7b6a7f56cb50>"
            ]
          },
          "metadata": {},
          "execution_count": 37
        },
        {
          "output_type": "display_data",
          "data": {
            "text/plain": [
              "<Figure size 640x480 with 1 Axes>"
            ],
            "image/png": "[encoded data removed]"
          },
          "metadata": {}
        }
      ]
    },
    {
      "cell_type": "markdown",
      "source": [
        "- In Every Platform the B age group users are using more than A and C age groups\n",
        "\n",
        "- A age group users are using more after B age group users"
      ],
      "metadata": {
        "id": "0ViHPZpnVVXJ"
      }
    },
    {
      "cell_type": "code",
      "source": [
        "df[\"YearsOnPlatform\"].value_counts()"
      ],
      "metadata": {
        "colab": {
          "base_uri": "https://localhost:8080/",
          "height": 429
        },
        "id": "_4_p9kCLHP5J",
        "outputId": "86c0812c-eab0-401f-f22b-755a9781cbaf"
      },
      "execution_count": null,
      "outputs": [
        {
          "output_type": "execute_result",
          "data": {
            "text/plain": [
              "YearsOnPlatform\n",
              "7     10103\n",
              "5     10066\n",
              "1     10022\n",
              "9     10020\n",
              "8     10006\n",
              "6      9986\n",
              "4      9975\n",
              "10     9971\n",
              "3      9941\n",
              "2      9910\n",
              "Name: count, dtype: int64"
            ],
            "text/html": [
              "<div>\n",
              "<style scoped>\n",
              "    .dataframe tbody tr th:only-of-type {\n",
              "        vertical-align: middle;\n",
              "    }\n",
              "\n",
              "    .dataframe tbody tr th {\n",
              "        vertical-align: top;\n",
              "    }\n",
              "\n",
              "    .dataframe thead th {\n",
              "        text-align: right;\n",
              "    }\n",
              "</style>\n",
              "<table border=\"1\" class=\"dataframe\">\n",
              "  <thead>\n",
              "    <tr style=\"text-align: right;\">\n",
              "      <th></th>\n",
              "      <th>count</th>\n",
              "    </tr>\n",
              "    <tr>\n",
              "      <th>YearsOnPlatform</th>\n",
              "      <th></th>\n",
              "    </tr>\n",
              "  </thead>\n",
              "  <tbody>\n",
              "    <tr>\n",
              "      <th>7</th>\n",
              "      <td>10103</td>\n",
              "    </tr>\n",
              "    <tr>\n",
              "      <th>5</th>\n",
              "      <td>10066</td>\n",
              "    </tr>\n",
              "    <tr>\n",
              "      <th>1</th>\n",
              "      <td>10022</td>\n",
              "    </tr>\n",
              "    <tr>\n",
              "      <th>9</th>\n",
              "      <td>10020</td>\n",
              "    </tr>\n",
              "    <tr>\n",
              "      <th>8</th>\n",
              "      <td>10006</td>\n",
              "    </tr>\n",
              "    <tr>\n",
              "      <th>6</th>\n",
              "      <td>9986</td>\n",
              "    </tr>\n",
              "    <tr>\n",
              "      <th>4</th>\n",
              "      <td>9975</td>\n",
              "    </tr>\n",
              "    <tr>\n",
              "      <th>10</th>\n",
              "      <td>9971</td>\n",
              "    </tr>\n",
              "    <tr>\n",
              "      <th>3</th>\n",
              "      <td>9941</td>\n",
              "    </tr>\n",
              "    <tr>\n",
              "      <th>2</th>\n",
              "      <td>9910</td>\n",
              "    </tr>\n",
              "  </tbody>\n",
              "</table>\n",
              "</div><br><label><b>dtype:</b> int64</label>"
            ]
          },
          "metadata": {},
          "execution_count": 31
        }
      ]
    },
    {
      "cell_type": "markdown",
      "source": [
        "The users who are using social media for 7 years are more than others."
      ],
      "metadata": {
        "id": "Q5tOaunqHlAK"
      }
    },
    {
      "cell_type": "code",
      "source": [
        "sns.countplot(df,x=\"YearsOnPlatform\",hue=\"Gender\")"
      ],
      "metadata": {
        "colab": {
          "base_uri": "https://localhost:8080/",
          "height": 467
        },
        "id": "HM-l_9KzHwDc",
        "outputId": "ca353b79-99fc-48b3-acc4-5048652c52cc"
      },
      "execution_count": null,
      "outputs": [
        {
          "output_type": "execute_result",
          "data": {
            "text/plain": [
              "<Axes: xlabel='YearsOnPlatform', ylabel='count'>"
            ]
          },
          "metadata": {},
          "execution_count": 29
        },
        {
          "output_type": "display_data",
          "data": {
            "text/plain": [
              "<Figure size 640x480 with 1 Axes>"
            ],
            "image/png": "[encoded data removed]"
          },
          "metadata": {}
        }
      ]
    },
    {
      "cell_type": "markdown",
      "source": [
        "On and average there are around 5000 users across all years\n"
      ],
      "metadata": {
        "id": "-SSXDP_7JGGE"
      }
    },
    {
      "cell_type": "code",
      "source": [
        "sns.countplot(df,x=\"YearsOnPlatform\",hue=\"AgeGroup\")\n",
        "plt.legend(title='AgeGroup', bbox_to_anchor=(1.05, 1), loc='upper left')"
      ],
      "metadata": {
        "colab": {
          "base_uri": "https://localhost:8080/",
          "height": 467
        },
        "id": "tPlWNwoFVjMF",
        "outputId": "7f44b679-4faf-4b5d-b285-9c41e3e1781b"
      },
      "execution_count": null,
      "outputs": [
        {
          "output_type": "execute_result",
          "data": {
            "text/plain": [
              "<matplotlib.legend.Legend at 0x7b6a84274b50>"
            ]
          },
          "metadata": {},
          "execution_count": 33
        },
        {
          "output_type": "display_data",
          "data": {
            "text/plain": [
              "<Figure size 640x480 with 1 Axes>"
            ],
            "image/png": "[encoded data removed]"
          },
          "metadata": {}
        }
      ]
    },
    {
      "cell_type": "markdown",
      "source": [
        "The B age group users are more in all years."
      ],
      "metadata": {
        "id": "FnevzF--XthJ"
      }
    },
    {
      "cell_type": "code",
      "source": [
        "df[\"PlatformPurpose\"].value_counts()"
      ],
      "metadata": {
        "colab": {
          "base_uri": "https://localhost:8080/",
          "height": 303
        },
        "id": "eOzRdlbBo4xJ",
        "outputId": "5e526f66-8caf-4a17-80ab-31c58b6d7744"
      },
      "execution_count": null,
      "outputs": [
        {
          "output_type": "execute_result",
          "data": {
            "text/plain": [
              "PlatformPurpose\n",
              "Sharing Moments           16763\n",
              "Networking                16709\n",
              "Entertainment             16696\n",
              "Connecting with People    16667\n",
              "Real-time Updates         16631\n",
              "Content Creation          16534\n",
              "Name: count, dtype: int64"
            ],
            "text/html": [
              "<div>\n",
              "<style scoped>\n",
              "    .dataframe tbody tr th:only-of-type {\n",
              "        vertical-align: middle;\n",
              "    }\n",
              "\n",
              "    .dataframe tbody tr th {\n",
              "        vertical-align: top;\n",
              "    }\n",
              "\n",
              "    .dataframe thead th {\n",
              "        text-align: right;\n",
              "    }\n",
              "</style>\n",
              "<table border=\"1\" class=\"dataframe\">\n",
              "  <thead>\n",
              "    <tr style=\"text-align: right;\">\n",
              "      <th></th>\n",
              "      <th>count</th>\n",
              "    </tr>\n",
              "    <tr>\n",
              "      <th>PlatformPurpose</th>\n",
              "      <th></th>\n",
              "    </tr>\n",
              "  </thead>\n",
              "  <tbody>\n",
              "    <tr>\n",
              "      <th>Sharing Moments</th>\n",
              "      <td>16763</td>\n",
              "    </tr>\n",
              "    <tr>\n",
              "      <th>Networking</th>\n",
              "      <td>16709</td>\n",
              "    </tr>\n",
              "    <tr>\n",
              "      <th>Entertainment</th>\n",
              "      <td>16696</td>\n",
              "    </tr>\n",
              "    <tr>\n",
              "      <th>Connecting with People</th>\n",
              "      <td>16667</td>\n",
              "    </tr>\n",
              "    <tr>\n",
              "      <th>Real-time Updates</th>\n",
              "      <td>16631</td>\n",
              "    </tr>\n",
              "    <tr>\n",
              "      <th>Content Creation</th>\n",
              "      <td>16534</td>\n",
              "    </tr>\n",
              "  </tbody>\n",
              "</table>\n",
              "</div><br><label><b>dtype:</b> int64</label>"
            ]
          },
          "metadata": {},
          "execution_count": 34
        }
      ]
    },
    {
      "cell_type": "markdown",
      "source": [
        "Almost all users are using platforms equally but  the users using the platform for sharing moments are in larger number as compared to other purposes"
      ],
      "metadata": {
        "id": "in-tLDvdqZLA"
      }
    },
    {
      "cell_type": "code",
      "source": [
        "sns.countplot(df,x=\"Gender\",hue=\"PlatformPurpose\")\n",
        "plt.legend(title='PlatformPurpose', bbox_to_anchor=(1.05, 1), loc='upper left')"
      ],
      "metadata": {
        "colab": {
          "base_uri": "https://localhost:8080/",
          "height": 467
        },
        "id": "T__qow5-awoS",
        "outputId": "361e1ea4-51cb-4871-f040-d5089c6af86f"
      },
      "execution_count": null,
      "outputs": [
        {
          "output_type": "execute_result",
          "data": {
            "text/plain": [
              "<matplotlib.legend.Legend at 0x7b6a7e5a8210>"
            ]
          },
          "metadata": {},
          "execution_count": 41
        },
        {
          "output_type": "display_data",
          "data": {
            "text/plain": [
              "<Figure size 640x480 with 1 Axes>"
            ],
            "image/png": "[encoded data removed]"
          },
          "metadata": {}
        }
      ]
    },
    {
      "cell_type": "markdown",
      "source": [
        "- Females using social media for Entertainment purpose are little more than using other purposes.\n",
        "\n",
        "- Where Males using for Sharing moments, Real-time Updates and Connecting with People\n",
        "are little more than using other purposes.\n",
        "\n",
        "- Networking and Content Creation are used equally by both genders."
      ],
      "metadata": {
        "id": "dxVbFplTVbsO"
      }
    },
    {
      "cell_type": "code",
      "source": [
        "sns.countplot(df,x=\"AgeGroup\",hue=\"PlatformPurpose\")\n",
        "plt.legend(title='PlatformPurpose', bbox_to_anchor=(1.05, 1), loc='upper left')"
      ],
      "metadata": {
        "colab": {
          "base_uri": "https://localhost:8080/",
          "height": 467
        },
        "id": "Gbrvy70fYgj-",
        "outputId": "01b7cf37-0e38-4124-ca91-c26fd4300d7c"
      },
      "execution_count": null,
      "outputs": [
        {
          "output_type": "execute_result",
          "data": {
            "text/plain": [
              "<matplotlib.legend.Legend at 0x7b6a7e585790>"
            ]
          },
          "metadata": {},
          "execution_count": 42
        },
        {
          "output_type": "display_data",
          "data": {
            "text/plain": [
              "<Figure size 640x480 with 1 Axes>"
            ],
            "image/png": "[encoded data removed]"
          },
          "metadata": {}
        }
      ]
    },
    {
      "cell_type": "markdown",
      "source": [
        "In every platform purpose the B age group has dominance"
      ],
      "metadata": {
        "id": "GDB6XMfQYmas"
      }
    },
    {
      "cell_type": "code",
      "source": [
        "df[\"UsageFrequency\"].value_counts()"
      ],
      "metadata": {
        "colab": {
          "base_uri": "https://localhost:8080/",
          "height": 209
        },
        "id": "Sp_ppgtiYHrR",
        "outputId": "a0e034ab-6979-4ba9-d0e1-be46a5b129e1"
      },
      "execution_count": null,
      "outputs": [
        {
          "output_type": "execute_result",
          "data": {
            "text/plain": [
              "UsageFrequency\n",
              "Daily      33547\n",
              "Weekly     33294\n",
              "Monthly    33159\n",
              "Name: count, dtype: int64"
            ],
            "text/html": [
              "<div>\n",
              "<style scoped>\n",
              "    .dataframe tbody tr th:only-of-type {\n",
              "        vertical-align: middle;\n",
              "    }\n",
              "\n",
              "    .dataframe tbody tr th {\n",
              "        vertical-align: top;\n",
              "    }\n",
              "\n",
              "    .dataframe thead th {\n",
              "        text-align: right;\n",
              "    }\n",
              "</style>\n",
              "<table border=\"1\" class=\"dataframe\">\n",
              "  <thead>\n",
              "    <tr style=\"text-align: right;\">\n",
              "      <th></th>\n",
              "      <th>count</th>\n",
              "    </tr>\n",
              "    <tr>\n",
              "      <th>UsageFrequency</th>\n",
              "      <th></th>\n",
              "    </tr>\n",
              "  </thead>\n",
              "  <tbody>\n",
              "    <tr>\n",
              "      <th>Daily</th>\n",
              "      <td>33547</td>\n",
              "    </tr>\n",
              "    <tr>\n",
              "      <th>Weekly</th>\n",
              "      <td>33294</td>\n",
              "    </tr>\n",
              "    <tr>\n",
              "      <th>Monthly</th>\n",
              "      <td>33159</td>\n",
              "    </tr>\n",
              "  </tbody>\n",
              "</table>\n",
              "</div><br><label><b>dtype:</b> int64</label>"
            ]
          },
          "metadata": {},
          "execution_count": 32
        }
      ]
    },
    {
      "cell_type": "markdown",
      "source": [
        "The Usage Frequency also almost equal in number.\n",
        "\n",
        "But there are more Users who are using social media Daily."
      ],
      "metadata": {
        "id": "gR5-P9BIYS9t"
      }
    },
    {
      "cell_type": "code",
      "source": [
        "sns.countplot(df,x=\"Gender\",hue=\"UsageFrequency\")\n",
        "plt.legend(title='UsageFrequency', bbox_to_anchor=(1.05, 1), loc='upper left')"
      ],
      "metadata": {
        "colab": {
          "base_uri": "https://localhost:8080/",
          "height": 467
        },
        "id": "SGkxVrg9cGa-",
        "outputId": "f96a52e6-f388-4013-fb58-2d6aa888d3a1"
      },
      "execution_count": null,
      "outputs": [
        {
          "output_type": "execute_result",
          "data": {
            "text/plain": [
              "<matplotlib.legend.Legend at 0x7f28f9914a10>"
            ]
          },
          "metadata": {},
          "execution_count": 33
        },
        {
          "output_type": "display_data",
          "data": {
            "text/plain": [
              "<Figure size 640x480 with 1 Axes>"
            ],
            "image/png": "[encoded data removed]"
          },
          "metadata": {}
        }
      ]
    },
    {
      "cell_type": "markdown",
      "source": [
        "Males are having more monthly users than Females,\n",
        "\n",
        "And the daily and weekly users are equal in both the genders.\n",
        "\n"
      ],
      "metadata": {
        "id": "S8S6lEC5ZALZ"
      }
    },
    {
      "cell_type": "code",
      "source": [
        "sns.countplot(df,x=\"AgeGroup\",hue=\"UsageFrequency\")\n",
        "plt.legend(title='UsageFrequency', bbox_to_anchor=(1.05, 1), loc='upper left')"
      ],
      "metadata": {
        "colab": {
          "base_uri": "https://localhost:8080/",
          "height": 467
        },
        "id": "EqmJWvQaYvWJ",
        "outputId": "f01fedc7-6577-409e-adf3-52b7d3c3dcac"
      },
      "execution_count": null,
      "outputs": [
        {
          "output_type": "execute_result",
          "data": {
            "text/plain": [
              "<matplotlib.legend.Legend at 0x7b6a7e382c90>"
            ]
          },
          "metadata": {},
          "execution_count": 43
        },
        {
          "output_type": "display_data",
          "data": {
            "text/plain": [
              "<Figure size 640x480 with 1 Axes>"
            ],
            "image/png": "[encoded data removed]"
          },
          "metadata": {}
        }
      ]
    },
    {
      "cell_type": "markdown",
      "source": [
        "In Frequency Usage also the B age group users are more than other two group users"
      ],
      "metadata": {
        "id": "tL9xQ4j5Y0Jt"
      }
    },
    {
      "cell_type": "code",
      "source": [
        "df[\"DeviceUsed\"].value_counts()"
      ],
      "metadata": {
        "colab": {
          "base_uri": "https://localhost:8080/",
          "height": 241
        },
        "id": "rJWRbJk7bDCc",
        "outputId": "69e8cc89-2082-44da-d48a-4b76cfbb1b55"
      },
      "execution_count": null,
      "outputs": [
        {
          "output_type": "execute_result",
          "data": {
            "text/plain": [
              "DeviceUsed\n",
              "Tablet      25182\n",
              "Smart TV    25020\n",
              "Desktop     24947\n",
              "Mobile      24851\n",
              "Name: count, dtype: int64"
            ],
            "text/html": [
              "<div>\n",
              "<style scoped>\n",
              "    .dataframe tbody tr th:only-of-type {\n",
              "        vertical-align: middle;\n",
              "    }\n",
              "\n",
              "    .dataframe tbody tr th {\n",
              "        vertical-align: top;\n",
              "    }\n",
              "\n",
              "    .dataframe thead th {\n",
              "        text-align: right;\n",
              "    }\n",
              "</style>\n",
              "<table border=\"1\" class=\"dataframe\">\n",
              "  <thead>\n",
              "    <tr style=\"text-align: right;\">\n",
              "      <th></th>\n",
              "      <th>count</th>\n",
              "    </tr>\n",
              "    <tr>\n",
              "      <th>DeviceUsed</th>\n",
              "      <th></th>\n",
              "    </tr>\n",
              "  </thead>\n",
              "  <tbody>\n",
              "    <tr>\n",
              "      <th>Tablet</th>\n",
              "      <td>25182</td>\n",
              "    </tr>\n",
              "    <tr>\n",
              "      <th>Smart TV</th>\n",
              "      <td>25020</td>\n",
              "    </tr>\n",
              "    <tr>\n",
              "      <th>Desktop</th>\n",
              "      <td>24947</td>\n",
              "    </tr>\n",
              "    <tr>\n",
              "      <th>Mobile</th>\n",
              "      <td>24851</td>\n",
              "    </tr>\n",
              "  </tbody>\n",
              "</table>\n",
              "</div><br><label><b>dtype:</b> int64</label>"
            ]
          },
          "metadata": {},
          "execution_count": 35
        }
      ]
    },
    {
      "cell_type": "markdown",
      "source": [
        "There are more numbers of users who are using social media in Tablet,\n",
        "\n",
        "And the other users who are using in other devices are slightly equal to the Tablet users"
      ],
      "metadata": {
        "id": "YExr2RXUbgwX"
      }
    },
    {
      "cell_type": "code",
      "source": [
        "sns.countplot(df,x=\"Gender\",hue=\"DeviceUsed\")\n",
        "plt.legend(title='DeviceUsed', bbox_to_anchor=(1.05, 1), loc='upper left')"
      ],
      "metadata": {
        "colab": {
          "base_uri": "https://localhost:8080/",
          "height": 467
        },
        "id": "jcVNhSTscVfx",
        "outputId": "2b1185a0-a1cf-478c-949a-571e9305900b"
      },
      "execution_count": null,
      "outputs": [
        {
          "output_type": "execute_result",
          "data": {
            "text/plain": [
              "<matplotlib.legend.Legend at 0x7f28f97e5a90>"
            ]
          },
          "metadata": {},
          "execution_count": 36
        },
        {
          "output_type": "display_data",
          "data": {
            "text/plain": [
              "<Figure size 640x480 with 1 Axes>"
            ],
            "image/png": "[encoded data removed]"
          },
          "metadata": {}
        }
      ]
    },
    {
      "cell_type": "markdown",
      "source": [
        "Ther are more Tablet users in Females as compared to other device users in Females,\n",
        "\n",
        "Where the Mobile users are less in Males as compared to othes device users in Males"
      ],
      "metadata": {
        "id": "lJ0hvezFcGDJ"
      }
    },
    {
      "cell_type": "code",
      "source": [
        "sns.countplot(df,x=\"AgeGroup\",hue=\"DeviceUsed\")\n",
        "plt.legend(title='DeviceUsed', bbox_to_anchor=(1.05, 1), loc='upper left')"
      ],
      "metadata": {
        "colab": {
          "base_uri": "https://localhost:8080/",
          "height": 467
        },
        "id": "KFO4zZ6PZBPV",
        "outputId": "8a226203-6a12-437a-ae58-522f0a976541"
      },
      "execution_count": null,
      "outputs": [
        {
          "output_type": "execute_result",
          "data": {
            "text/plain": [
              "<matplotlib.legend.Legend at 0x7b6a7e558d10>"
            ]
          },
          "metadata": {},
          "execution_count": 44
        },
        {
          "output_type": "display_data",
          "data": {
            "text/plain": [
              "<Figure size 640x480 with 1 Axes>"
            ],
            "image/png": "[encoded data removed]"
          },
          "metadata": {}
        }
      ]
    },
    {
      "cell_type": "markdown",
      "source": [
        "In every Device used B age group are more"
      ],
      "metadata": {
        "id": "maMjdqoMZHCh"
      }
    },
    {
      "cell_type": "code",
      "source": [
        "df[\"NotificationsEnabled\"].value_counts()"
      ],
      "metadata": {
        "colab": {
          "base_uri": "https://localhost:8080/",
          "height": 178
        },
        "id": "XG2UvGsGfWZz",
        "outputId": "b3ae7802-c526-41d4-d0e4-7e274d9bca59"
      },
      "execution_count": null,
      "outputs": [
        {
          "output_type": "execute_result",
          "data": {
            "text/plain": [
              "NotificationsEnabled\n",
              "Yes    50038\n",
              "No     49962\n",
              "Name: count, dtype: int64"
            ],
            "text/html": [
              "<div>\n",
              "<style scoped>\n",
              "    .dataframe tbody tr th:only-of-type {\n",
              "        vertical-align: middle;\n",
              "    }\n",
              "\n",
              "    .dataframe tbody tr th {\n",
              "        vertical-align: top;\n",
              "    }\n",
              "\n",
              "    .dataframe thead th {\n",
              "        text-align: right;\n",
              "    }\n",
              "</style>\n",
              "<table border=\"1\" class=\"dataframe\">\n",
              "  <thead>\n",
              "    <tr style=\"text-align: right;\">\n",
              "      <th></th>\n",
              "      <th>count</th>\n",
              "    </tr>\n",
              "    <tr>\n",
              "      <th>NotificationsEnabled</th>\n",
              "      <th></th>\n",
              "    </tr>\n",
              "  </thead>\n",
              "  <tbody>\n",
              "    <tr>\n",
              "      <th>Yes</th>\n",
              "      <td>50038</td>\n",
              "    </tr>\n",
              "    <tr>\n",
              "      <th>No</th>\n",
              "      <td>49962</td>\n",
              "    </tr>\n",
              "  </tbody>\n",
              "</table>\n",
              "</div><br><label><b>dtype:</b> int64</label>"
            ]
          },
          "metadata": {},
          "execution_count": 37
        }
      ]
    },
    {
      "cell_type": "markdown",
      "source": [
        "In total 1 Lakh users\n",
        "\n",
        "50038 users are Enabled notifications,\n",
        "\n",
        "and remaining 49962 are Disabled the notifications."
      ],
      "metadata": {
        "id": "ZPE6GfN_Goa5"
      }
    },
    {
      "cell_type": "code",
      "source": [
        "sns.countplot(df,x=\"Gender\",hue=\"NotificationsEnabled\")\n",
        "plt.legend(title='NotificationEnabled', bbox_to_anchor=(1.05, 1), loc='upper left')"
      ],
      "metadata": {
        "colab": {
          "base_uri": "https://localhost:8080/",
          "height": 467
        },
        "id": "JHq0uaLecsez",
        "outputId": "36989a25-0bb8-4ec7-92b3-3ea06d01c49a"
      },
      "execution_count": null,
      "outputs": [
        {
          "output_type": "execute_result",
          "data": {
            "text/plain": [
              "<matplotlib.legend.Legend at 0x7c54d18eb310>"
            ]
          },
          "metadata": {},
          "execution_count": 38
        },
        {
          "output_type": "display_data",
          "data": {
            "text/plain": [
              "<Figure size 640x480 with 1 Axes>"
            ],
            "image/png": "[encoded data removed]"
          },
          "metadata": {}
        }
      ]
    },
    {
      "cell_type": "markdown",
      "source": [
        "Females and Males are opposite in Notifications Enabled,\n",
        "\n",
        "Where the Females who disabled notications are equal to Males who enabled notifications,\n",
        "\n",
        "And the Females who enabled notifications are equal to Males who disabled notifications."
      ],
      "metadata": {
        "id": "4uEP32pyGzL8"
      }
    },
    {
      "cell_type": "code",
      "source": [
        "sns.countplot(df,x=\"AgeGroup\",hue=\"NotificationsEnabled\")\n",
        "plt.legend(title='NotificationEnabled', bbox_to_anchor=(1.05, 1), loc='upper left')"
      ],
      "metadata": {
        "colab": {
          "base_uri": "https://localhost:8080/",
          "height": 467
        },
        "id": "SRmAVkQjZW8n",
        "outputId": "0120d426-b756-45d6-be93-b6280051f9a4"
      },
      "execution_count": null,
      "outputs": [
        {
          "output_type": "execute_result",
          "data": {
            "text/plain": [
              "<matplotlib.legend.Legend at 0x7b6a7e3a9ad0>"
            ]
          },
          "metadata": {},
          "execution_count": 46
        },
        {
          "output_type": "display_data",
          "data": {
            "text/plain": [
              "<Figure size 640x480 with 1 Axes>"
            ],
            "image/png": "[encoded data removed]"
          },
          "metadata": {}
        }
      ]
    },
    {
      "cell_type": "markdown",
      "source": [
        "In B age group users those who are enabled notifiactions are equal to the users who diabled the notifications.\n",
        "\n",
        "And in notifiactions enabled also the B age group users are more"
      ],
      "metadata": {
        "id": "nYO9QjnDZcTG"
      }
    },
    {
      "cell_type": "code",
      "source": [
        "df[\"UsageEnvironment\"].value_counts()"
      ],
      "metadata": {
        "colab": {
          "base_uri": "https://localhost:8080/",
          "height": 272
        },
        "id": "xJYOmX0cMb-x",
        "outputId": "1712ad7c-897f-47c2-ca16-fc229ad10eef"
      },
      "execution_count": null,
      "outputs": [
        {
          "output_type": "execute_result",
          "data": {
            "text/plain": [
              "UsageEnvironment\n",
              "Cafe                20107\n",
              "Home                20068\n",
              "Work                19952\n",
              "Public Transport    19947\n",
              "School              19926\n",
              "Name: count, dtype: int64"
            ],
            "text/html": [
              "<div>\n",
              "<style scoped>\n",
              "    .dataframe tbody tr th:only-of-type {\n",
              "        vertical-align: middle;\n",
              "    }\n",
              "\n",
              "    .dataframe tbody tr th {\n",
              "        vertical-align: top;\n",
              "    }\n",
              "\n",
              "    .dataframe thead th {\n",
              "        text-align: right;\n",
              "    }\n",
              "</style>\n",
              "<table border=\"1\" class=\"dataframe\">\n",
              "  <thead>\n",
              "    <tr style=\"text-align: right;\">\n",
              "      <th></th>\n",
              "      <th>count</th>\n",
              "    </tr>\n",
              "    <tr>\n",
              "      <th>UsageEnvironment</th>\n",
              "      <th></th>\n",
              "    </tr>\n",
              "  </thead>\n",
              "  <tbody>\n",
              "    <tr>\n",
              "      <th>Cafe</th>\n",
              "      <td>20107</td>\n",
              "    </tr>\n",
              "    <tr>\n",
              "      <th>Home</th>\n",
              "      <td>20068</td>\n",
              "    </tr>\n",
              "    <tr>\n",
              "      <th>Work</th>\n",
              "      <td>19952</td>\n",
              "    </tr>\n",
              "    <tr>\n",
              "      <th>Public Transport</th>\n",
              "      <td>19947</td>\n",
              "    </tr>\n",
              "    <tr>\n",
              "      <th>School</th>\n",
              "      <td>19926</td>\n",
              "    </tr>\n",
              "  </tbody>\n",
              "</table>\n",
              "</div><br><label><b>dtype:</b> int64</label>"
            ]
          },
          "metadata": {},
          "execution_count": 19
        }
      ]
    },
    {
      "cell_type": "markdown",
      "source": [
        "There are more users who are using social media in Cafes than other Environments."
      ],
      "metadata": {
        "id": "g2_Xju0qM2Y0"
      }
    },
    {
      "cell_type": "code",
      "source": [
        "sns.countplot(df,x=\"Gender\",hue=\"UsageEnvironment\")\n",
        "plt.legend(title='UsageEnvironment', bbox_to_anchor=(1.05, 1), loc='upper left')"
      ],
      "metadata": {
        "colab": {
          "base_uri": "https://localhost:8080/",
          "height": 467
        },
        "id": "dmsRgHbGc-kX",
        "outputId": "573b0d8f-a549-4525-ef77-af8b833a4245"
      },
      "execution_count": null,
      "outputs": [
        {
          "output_type": "execute_result",
          "data": {
            "text/plain": [
              "<matplotlib.legend.Legend at 0x7f28f9fb7010>"
            ]
          },
          "metadata": {},
          "execution_count": 10
        },
        {
          "output_type": "display_data",
          "data": {
            "text/plain": [
              "<Figure size 640x480 with 1 Axes>"
            ],
            "image/png": "[encoded data removed]"
          },
          "metadata": {}
        }
      ]
    },
    {
      "cell_type": "markdown",
      "source": [
        "The Cafe and Work Environment users are equal in both the genders,\n",
        "\n",
        "The Males who are using social Media in Home and Public Transport are equal."
      ],
      "metadata": {
        "id": "nkVOt7qzNFPb"
      }
    },
    {
      "cell_type": "code",
      "source": [
        "sns.countplot(df,x=\"AgeGroup\",hue=\"UsageEnvironment\")\n",
        "plt.legend(title='UsageEnvironment', bbox_to_anchor=(1.05, 1), loc='upper left')"
      ],
      "metadata": {
        "colab": {
          "base_uri": "https://localhost:8080/",
          "height": 467
        },
        "id": "e-wzVXpFbERx",
        "outputId": "f4a38c84-effd-4f4a-d591-3868c1e359df"
      },
      "execution_count": null,
      "outputs": [
        {
          "output_type": "execute_result",
          "data": {
            "text/plain": [
              "<matplotlib.legend.Legend at 0x7b6a7e24aa50>"
            ]
          },
          "metadata": {},
          "execution_count": 47
        },
        {
          "output_type": "display_data",
          "data": {
            "text/plain": [
              "<Figure size 640x480 with 1 Axes>"
            ],
            "image/png": "[encoded data removed]"
          },
          "metadata": {}
        }
      ]
    },
    {
      "cell_type": "markdown",
      "source": [
        "In every Usage Enivornment B age group users are more than A and C age group users"
      ],
      "metadata": {
        "id": "FSKeiUX1bITL"
      }
    },
    {
      "cell_type": "code",
      "source": [
        "df[\"DailyUsageMinutes\"].value_counts()"
      ],
      "metadata": {
        "colab": {
          "base_uri": "https://localhost:8080/",
          "height": 489
        },
        "id": "3o8vblYVQLkJ",
        "outputId": "262aee48-e24b-4c47-dbdd-44e170545896"
      },
      "execution_count": null,
      "outputs": [
        {
          "output_type": "execute_result",
          "data": {
            "text/plain": [
              "DailyUsageMinutes\n",
              "112    913\n",
              "106    903\n",
              "107    902\n",
              "113    858\n",
              "118    857\n",
              "      ... \n",
              "213     84\n",
              "219     81\n",
              "225     78\n",
              "231     66\n",
              "240     49\n",
              "Name: count, Length: 226, dtype: int64"
            ],
            "text/html": [
              "<div>\n",
              "<style scoped>\n",
              "    .dataframe tbody tr th:only-of-type {\n",
              "        vertical-align: middle;\n",
              "    }\n",
              "\n",
              "    .dataframe tbody tr th {\n",
              "        vertical-align: top;\n",
              "    }\n",
              "\n",
              "    .dataframe thead th {\n",
              "        text-align: right;\n",
              "    }\n",
              "</style>\n",
              "<table border=\"1\" class=\"dataframe\">\n",
              "  <thead>\n",
              "    <tr style=\"text-align: right;\">\n",
              "      <th></th>\n",
              "      <th>count</th>\n",
              "    </tr>\n",
              "    <tr>\n",
              "      <th>DailyUsageMinutes</th>\n",
              "      <th></th>\n",
              "    </tr>\n",
              "  </thead>\n",
              "  <tbody>\n",
              "    <tr>\n",
              "      <th>112</th>\n",
              "      <td>913</td>\n",
              "    </tr>\n",
              "    <tr>\n",
              "      <th>106</th>\n",
              "      <td>903</td>\n",
              "    </tr>\n",
              "    <tr>\n",
              "      <th>107</th>\n",
              "      <td>902</td>\n",
              "    </tr>\n",
              "    <tr>\n",
              "      <th>113</th>\n",
              "      <td>858</td>\n",
              "    </tr>\n",
              "    <tr>\n",
              "      <th>118</th>\n",
              "      <td>857</td>\n",
              "    </tr>\n",
              "    <tr>\n",
              "      <th>...</th>\n",
              "      <td>...</td>\n",
              "    </tr>\n",
              "    <tr>\n",
              "      <th>213</th>\n",
              "      <td>84</td>\n",
              "    </tr>\n",
              "    <tr>\n",
              "      <th>219</th>\n",
              "      <td>81</td>\n",
              "    </tr>\n",
              "    <tr>\n",
              "      <th>225</th>\n",
              "      <td>78</td>\n",
              "    </tr>\n",
              "    <tr>\n",
              "      <th>231</th>\n",
              "      <td>66</td>\n",
              "    </tr>\n",
              "    <tr>\n",
              "      <th>240</th>\n",
              "      <td>49</td>\n",
              "    </tr>\n",
              "  </tbody>\n",
              "</table>\n",
              "<p>226 rows × 1 columns</p>\n",
              "</div><br><label><b>dtype:</b> int64</label>"
            ]
          },
          "metadata": {},
          "execution_count": 48
        }
      ]
    },
    {
      "cell_type": "markdown",
      "source": [
        "The users who are using social media for 112 minutes daily are high in number,\n",
        "\n",
        "And The users who are using social media for 240 minutes daily are low in number"
      ],
      "metadata": {
        "id": "2OAkCCRWQdYj"
      }
    },
    {
      "cell_type": "code",
      "source": [
        "sns.barplot(df,x=\"Gender\",y=\"DailyUsageMinutes\")"
      ],
      "metadata": {
        "colab": {
          "base_uri": "https://localhost:8080/",
          "height": 472
        },
        "id": "1sXBI56ydRhV",
        "outputId": "b4245e34-11d9-461e-c979-b7964ee82acd"
      },
      "execution_count": null,
      "outputs": [
        {
          "output_type": "execute_result",
          "data": {
            "text/plain": [
              "<Axes: xlabel='Gender', ylabel='DailyUsageMinutes'>"
            ]
          },
          "metadata": {},
          "execution_count": 21
        },
        {
          "output_type": "display_data",
          "data": {
            "text/plain": [
              "<Figure size 640x480 with 1 Axes>"
            ],
            "image/png": "[encoded data removed]"
          },
          "metadata": {}
        }
      ]
    },
    {
      "cell_type": "markdown",
      "source": [
        "Both Males and Females are using Social Media Equally when it compared to DailyUsageMinutes."
      ],
      "metadata": {
        "id": "eQGm_2GKQzFv"
      }
    },
    {
      "cell_type": "code",
      "source": [
        "sns.barplot(df,x=\"AgeGroup\",y=\"DailyUsageMinutes\")"
      ],
      "metadata": {
        "colab": {
          "base_uri": "https://localhost:8080/",
          "height": 472
        },
        "id": "sU5j6st1ba41",
        "outputId": "8b41c39f-1ee7-4688-c9fd-270fafa0127b"
      },
      "execution_count": null,
      "outputs": [
        {
          "output_type": "execute_result",
          "data": {
            "text/plain": [
              "<Axes: xlabel='AgeGroup', ylabel='DailyUsageMinutes'>"
            ]
          },
          "metadata": {},
          "execution_count": 15
        },
        {
          "output_type": "display_data",
          "data": {
            "text/plain": [
              "<Figure size 640x480 with 1 Axes>"
            ],
            "image/png": "[encoded data removed]"
          },
          "metadata": {}
        }
      ]
    },
    {
      "cell_type": "markdown",
      "source": [
        "Every Age group is used social media equally"
      ],
      "metadata": {
        "id": "BVGQ5-_CbjSr"
      }
    },
    {
      "cell_type": "markdown",
      "source": [
        "#Final Conclusion"
      ],
      "metadata": {
        "id": "LGidEDmztjBi"
      }
    },
    {
      "cell_type": "markdown",
      "source": [
        "The number of users are nearly equal across Genders, showing that the both genders are equally active"
      ],
      "metadata": {
        "id": "0vrOSbFCtm94"
      }
    },
    {
      "cell_type": "markdown",
      "source": [
        "Age Group B has more users than both A and C in every category"
      ],
      "metadata": {
        "id": "jeE7Lk45t83t"
      }
    }
  ]
}